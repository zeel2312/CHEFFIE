{
 "cells": [
  {
   "cell_type": "code",
   "execution_count": 43,
   "metadata": {},
   "outputs": [],
   "source": [
    "import pandas as pd\n",
    "import json\n",
    "from openai import OpenAI\n",
    "import os\n",
    "from dotenv import load_dotenv"
   ]
  },
  {
   "cell_type": "code",
   "execution_count": 42,
   "metadata": {},
   "outputs": [
    {
     "data": {
      "text/plain": [
       "True"
      ]
     },
     "execution_count": 42,
     "metadata": {},
     "output_type": "execute_result"
    }
   ],
   "source": [
    "load_dotenv()"
   ]
  },
  {
   "cell_type": "code",
   "execution_count": 14,
   "metadata": {},
   "outputs": [
    {
     "data": {
      "text/html": [
       "<div>\n",
       "<style scoped>\n",
       "    .dataframe tbody tr th:only-of-type {\n",
       "        vertical-align: middle;\n",
       "    }\n",
       "\n",
       "    .dataframe tbody tr th {\n",
       "        vertical-align: top;\n",
       "    }\n",
       "\n",
       "    .dataframe thead th {\n",
       "        text-align: right;\n",
       "    }\n",
       "</style>\n",
       "<table border=\"1\" class=\"dataframe\">\n",
       "  <thead>\n",
       "    <tr style=\"text-align: right;\">\n",
       "      <th></th>\n",
       "      <th>title</th>\n",
       "      <th>rating</th>\n",
       "      <th>calories</th>\n",
       "      <th>protein</th>\n",
       "      <th>fat</th>\n",
       "      <th>sodium</th>\n",
       "      <th>#cakeweek</th>\n",
       "      <th>#wasteless</th>\n",
       "      <th>22-minute meals</th>\n",
       "      <th>3-ingredient recipes</th>\n",
       "      <th>...</th>\n",
       "      <th>yellow squash</th>\n",
       "      <th>yogurt</th>\n",
       "      <th>yonkers</th>\n",
       "      <th>yuca</th>\n",
       "      <th>zucchini</th>\n",
       "      <th>cookbooks</th>\n",
       "      <th>leftovers</th>\n",
       "      <th>snack</th>\n",
       "      <th>snack week</th>\n",
       "      <th>turkey</th>\n",
       "    </tr>\n",
       "  </thead>\n",
       "  <tbody>\n",
       "    <tr>\n",
       "      <th>0</th>\n",
       "      <td>Lentil, Apple, and Turkey Wrap</td>\n",
       "      <td>2.500</td>\n",
       "      <td>426.0</td>\n",
       "      <td>30.0</td>\n",
       "      <td>7.0</td>\n",
       "      <td>559.0</td>\n",
       "      <td>0.0</td>\n",
       "      <td>0.0</td>\n",
       "      <td>0.0</td>\n",
       "      <td>0.0</td>\n",
       "      <td>...</td>\n",
       "      <td>0.0</td>\n",
       "      <td>0.0</td>\n",
       "      <td>0.0</td>\n",
       "      <td>0.0</td>\n",
       "      <td>0.0</td>\n",
       "      <td>0.0</td>\n",
       "      <td>0.0</td>\n",
       "      <td>0.0</td>\n",
       "      <td>0.0</td>\n",
       "      <td>1.0</td>\n",
       "    </tr>\n",
       "    <tr>\n",
       "      <th>1</th>\n",
       "      <td>Boudin Blanc Terrine with Red Onion Confit</td>\n",
       "      <td>4.375</td>\n",
       "      <td>403.0</td>\n",
       "      <td>18.0</td>\n",
       "      <td>23.0</td>\n",
       "      <td>1439.0</td>\n",
       "      <td>0.0</td>\n",
       "      <td>0.0</td>\n",
       "      <td>0.0</td>\n",
       "      <td>0.0</td>\n",
       "      <td>...</td>\n",
       "      <td>0.0</td>\n",
       "      <td>0.0</td>\n",
       "      <td>0.0</td>\n",
       "      <td>0.0</td>\n",
       "      <td>0.0</td>\n",
       "      <td>0.0</td>\n",
       "      <td>0.0</td>\n",
       "      <td>0.0</td>\n",
       "      <td>0.0</td>\n",
       "      <td>0.0</td>\n",
       "    </tr>\n",
       "    <tr>\n",
       "      <th>2</th>\n",
       "      <td>Potato and Fennel Soup Hodge</td>\n",
       "      <td>3.750</td>\n",
       "      <td>165.0</td>\n",
       "      <td>6.0</td>\n",
       "      <td>7.0</td>\n",
       "      <td>165.0</td>\n",
       "      <td>0.0</td>\n",
       "      <td>0.0</td>\n",
       "      <td>0.0</td>\n",
       "      <td>0.0</td>\n",
       "      <td>...</td>\n",
       "      <td>0.0</td>\n",
       "      <td>0.0</td>\n",
       "      <td>0.0</td>\n",
       "      <td>0.0</td>\n",
       "      <td>0.0</td>\n",
       "      <td>0.0</td>\n",
       "      <td>0.0</td>\n",
       "      <td>0.0</td>\n",
       "      <td>0.0</td>\n",
       "      <td>0.0</td>\n",
       "    </tr>\n",
       "    <tr>\n",
       "      <th>3</th>\n",
       "      <td>Mahi-Mahi in Tomato Olive Sauce</td>\n",
       "      <td>5.000</td>\n",
       "      <td>NaN</td>\n",
       "      <td>NaN</td>\n",
       "      <td>NaN</td>\n",
       "      <td>NaN</td>\n",
       "      <td>0.0</td>\n",
       "      <td>0.0</td>\n",
       "      <td>0.0</td>\n",
       "      <td>0.0</td>\n",
       "      <td>...</td>\n",
       "      <td>0.0</td>\n",
       "      <td>0.0</td>\n",
       "      <td>0.0</td>\n",
       "      <td>0.0</td>\n",
       "      <td>0.0</td>\n",
       "      <td>0.0</td>\n",
       "      <td>0.0</td>\n",
       "      <td>0.0</td>\n",
       "      <td>0.0</td>\n",
       "      <td>0.0</td>\n",
       "    </tr>\n",
       "    <tr>\n",
       "      <th>4</th>\n",
       "      <td>Spinach Noodle Casserole</td>\n",
       "      <td>3.125</td>\n",
       "      <td>547.0</td>\n",
       "      <td>20.0</td>\n",
       "      <td>32.0</td>\n",
       "      <td>452.0</td>\n",
       "      <td>0.0</td>\n",
       "      <td>0.0</td>\n",
       "      <td>0.0</td>\n",
       "      <td>0.0</td>\n",
       "      <td>...</td>\n",
       "      <td>0.0</td>\n",
       "      <td>0.0</td>\n",
       "      <td>0.0</td>\n",
       "      <td>0.0</td>\n",
       "      <td>0.0</td>\n",
       "      <td>0.0</td>\n",
       "      <td>0.0</td>\n",
       "      <td>0.0</td>\n",
       "      <td>0.0</td>\n",
       "      <td>0.0</td>\n",
       "    </tr>\n",
       "  </tbody>\n",
       "</table>\n",
       "<p>5 rows × 680 columns</p>\n",
       "</div>"
      ],
      "text/plain": [
       "                                         title  rating  calories  protein  \\\n",
       "0              Lentil, Apple, and Turkey Wrap    2.500     426.0     30.0   \n",
       "1  Boudin Blanc Terrine with Red Onion Confit    4.375     403.0     18.0   \n",
       "2                Potato and Fennel Soup Hodge    3.750     165.0      6.0   \n",
       "3             Mahi-Mahi in Tomato Olive Sauce    5.000       NaN      NaN   \n",
       "4                    Spinach Noodle Casserole    3.125     547.0     20.0   \n",
       "\n",
       "    fat  sodium  #cakeweek  #wasteless  22-minute meals  3-ingredient recipes  \\\n",
       "0   7.0   559.0        0.0         0.0              0.0                   0.0   \n",
       "1  23.0  1439.0        0.0         0.0              0.0                   0.0   \n",
       "2   7.0   165.0        0.0         0.0              0.0                   0.0   \n",
       "3   NaN     NaN        0.0         0.0              0.0                   0.0   \n",
       "4  32.0   452.0        0.0         0.0              0.0                   0.0   \n",
       "\n",
       "   ...  yellow squash  yogurt  yonkers  yuca  zucchini  cookbooks  leftovers  \\\n",
       "0  ...            0.0     0.0      0.0   0.0       0.0        0.0        0.0   \n",
       "1  ...            0.0     0.0      0.0   0.0       0.0        0.0        0.0   \n",
       "2  ...            0.0     0.0      0.0   0.0       0.0        0.0        0.0   \n",
       "3  ...            0.0     0.0      0.0   0.0       0.0        0.0        0.0   \n",
       "4  ...            0.0     0.0      0.0   0.0       0.0        0.0        0.0   \n",
       "\n",
       "   snack  snack week  turkey  \n",
       "0    0.0         0.0     1.0  \n",
       "1    0.0         0.0     0.0  \n",
       "2    0.0         0.0     0.0  \n",
       "3    0.0         0.0     0.0  \n",
       "4    0.0         0.0     0.0  \n",
       "\n",
       "[5 rows x 680 columns]"
      ]
     },
     "execution_count": 14,
     "metadata": {},
     "output_type": "execute_result"
    }
   ],
   "source": [
    "df = pd.read_csv(\"epi_r.csv\")\n",
    "df.head()\n"
   ]
  },
  {
   "cell_type": "code",
   "execution_count": 15,
   "metadata": {},
   "outputs": [
    {
     "data": {
      "text/plain": [
       "(title          0\n",
       " rating         0\n",
       " calories    4117\n",
       " protein     4162\n",
       " fat         4183\n",
       " sodium      4119\n",
       " dtype: int64,\n",
       " np.int64(4188))"
      ]
     },
     "execution_count": 15,
     "metadata": {},
     "output_type": "execute_result"
    }
   ],
   "source": [
    "nan_summary = df[[\"title\", \"rating\", \"calories\", \"protein\", \"fat\", \"sodium\"]].isna().sum()\n",
    "\n",
    "# Count missing fields\n",
    "nan_rows = df[[\"title\", \"rating\", \"calories\", \"protein\", \"fat\", \"sodium\"]].isna().any(axis=1).sum()\n",
    "\n",
    "nan_summary, nan_rows\n"
   ]
  },
  {
   "cell_type": "code",
   "execution_count": 16,
   "metadata": {},
   "outputs": [
    {
     "data": {
      "text/plain": [
       "(title       0\n",
       " rating      0\n",
       " calories    0\n",
       " protein     0\n",
       " fat         0\n",
       " sodium      0\n",
       " dtype: int64,\n",
       " np.int64(0))"
      ]
     },
     "execution_count": 16,
     "metadata": {},
     "output_type": "execute_result"
    }
   ],
   "source": [
    "#drop recipes with missing nutrition\n",
    "df_clean = df.dropna(subset=[\"calories\", \"protein\", \"fat\", \"sodium\"])\n",
    "\n",
    "#recheck\n",
    "nan_summary = df_clean[[\"title\", \"rating\", \"calories\", \"protein\", \"fat\", \"sodium\"]].isna().sum()\n",
    "nan_rows = df_clean[[\"title\", \"rating\", \"calories\", \"protein\", \"fat\", \"sodium\"]].isna().any(axis=1).sum()\n",
    "nan_summary, nan_rows"
   ]
  },
  {
   "cell_type": "code",
   "execution_count": 53,
   "metadata": {},
   "outputs": [],
   "source": [
    "#columns for ChatGPT cleaning\n",
    "cols = df_clean.columns.to_list()\n",
    "columns_str = \", \".join(cols)\n",
    "\n",
    "#prompt\n",
    "prompt = f\"\"\"\n",
    "From the following list of column names, return only the ones that are food ingredients. Do not modify the ingredients spelling, grouping, etc at all, returning the ingredients written exactly as they were presented to you. \n",
    "Exclude anything that refers to metadata like cuisine, course, method, rating, or tags like vegan, kosher, etc.\n",
    "\n",
    "Columns: {columns_str}\n",
    "\n",
    "Only return a Python list of the ingredient columns.\n",
    "\"\"\""
   ]
  },
  {
   "cell_type": "code",
   "execution_count": 54,
   "metadata": {},
   "outputs": [
    {
     "name": "stdout",
     "output_type": "stream",
     "text": [
      "```python\n",
      "['almond', 'amaretto', 'anchovy', 'anise', 'apple', 'apple juice', 'apricot', 'artichoke', 'arugula', 'asparagus', 'avocado', 'bacon', 'banana', 'barley', 'basil', 'bean', 'beef', 'beef rib', 'beef shank', 'beef tenderloin', 'beer', 'beet', 'bell pepper', 'berry', 'biscuit', 'blackberry', 'blue cheese', 'blueberry', 'bok choy', 'bordeaux', 'bread', 'breadcrumbs', 'brie', 'brisket', 'broccoli', 'broccoli rabe', 'brown rice', 'brussel sprout', 'butter', 'buttermilk', 'butternut squash', 'cabbage', 'candy', 'cantaloupe', 'capers', 'caraway', 'cardamom', 'carrot', 'cashew', 'casserole/gratin', 'cauliflower', 'caviar', 'celery', 'champagne', 'chard', 'cheddar', 'cheese', 'cherry', 'chestnut', 'chicken', 'chickpea', 'chile', 'chile pepper', 'chili', 'chive', 'chocolate', 'cilantro', 'cinnamon', 'clam', 'clove', 'cocktail', 'coconut', 'cod', 'coffee', 'cognac/armagnac', 'collard greens', 'condiment', 'condiment/spread', 'corn', 'cornmeal', 'cottage cheese', 'couscous', 'crab', 'cranberry', 'cranberry sauce', 'cream cheese', 'creme de cacao', 'crepe', 'cucumber', 'cumin', 'curry', 'custard', 'dairy', 'duck', 'egg', 'eggplant', 'endive', 'escarole', 'fennel', 'feta', 'fig', 'fish', 'feta', 'game', 'garlic', 'ginger', 'goat cheese', 'goose', 'gouda', 'grape', 'grapefruit', 'green bean', 'green onion/scallion', 'hazelnut', 'honey', 'honeydew', 'horseradish', 'hummus', 'ice cream', 'jicama', 'jam or jelly', 'jalapeño', 'kale', 'kidney bean', 'lamb', 'lamb chop', 'lamb shank', 'leafy green', 'leek', 'legume', 'lemon', 'lemon juice', 'lemongrass', 'lentil', 'lettuce', 'lima bean', 'lime', 'lime juice', 'lingonberry', 'lobster', 'mango', 'maple syrup', 'margarita', 'marsala', 'mascarpone', 'mayonnaise', 'mushroom', 'mustard', 'mustard greens', 'nectarine', 'nut', 'nutmeg', 'oat', 'oatmeal', 'octopus', 'olive', 'onion', 'orange', 'orange juice', 'oregano', 'organic', 'orecchiette', 'orzo', 'oyster', 'papaya', 'paprika', 'parmesan', 'parsley', 'parsnip', 'peach', 'peanut', 'peanut butter', 'pecan', 'pear', 'pecan', 'pepper', 'pesto', 'persimmon', 'pine nut', 'pineapple', 'pistachio', 'plum', 'poblano', 'pomegranate', 'pomegranate juice', 'poppy seed', 'pork', 'pork chop', 'pork rib', 'pork tenderloin', 'potato', 'poultry', 'poultry sausage', 'prosciutto', 'prune', 'pumpkin', 'quail', 'quinoa', 'rabbit', 'radicchio', 'radish', 'raisin', 'raspberry', 'red wine', 'rice', 'ricotta', 'root vegetable', 'rosemary', 'saffron', 'sage', 'sake', 'salad', 'salad dressing', 'salmon', 'salsa', 'sandwich', 'sangria', 'sardine', 'sausage', 'scallops', 'scotch', 'seafood', 'sesame', 'sesame oil', 'shallot', 'shellfish', 'sherry', 'shrimp', 'skirt steak', 'soda', 'sour cream', 'sourdough', 'soy', 'soy sauce', 'spinach', 'spirits', 'squash', 'steak', 'string bean', 'strawberry', 'stuffing', 'sugar', 'summer squash', 'sun-dried tomato', 'surimi', 'sweet potato', 'swiss chard', 'swiss cheese', 'swordfish', 'tahini', 'tamarind', 'tangerine', 'tapenade', 'tapioca', 'tarragon', 'tart', 'tea', 'tequila', 'thyme', 'tilapia', 'tofu', 'tomatillo', 'tomato', 'tortillas', 'trail mix', 'truffle', 'trout', 'tuna', 'turnip', 'veal', 'vegetable', 'venison', 'vermouth', 'vinegar', 'vodka', 'walnut', 'watermelon', 'whipped cream', 'white wine', 'wild rice', 'yogurt', 'zucchini']\n",
      "```\n"
     ]
    }
   ],
   "source": [
    "#call ChatGPT\n",
    "client = OpenAI(\n",
    "    base_url=\"https://openrouter.ai/api/v1\",\n",
    "    api_key=os.getenv(\"OPENROUTER_API_KEY\"),\n",
    "    )\n",
    "\n",
    "\n",
    "response = client.chat.completions.create(\n",
    "    model = \"qwen/qwen-2.5-72b-instruct:free\",\n",
    "    messages=[\n",
    "        {\"role\": \"system\", \"content\": \"You are a helpful culinary assistant that extracts ingredient-related column names from data.\"},\n",
    "        {\"role\": \"user\", \"content\": prompt}\n",
    "    ], \n",
    "\n",
    ")\n",
    "print(response.choices[0].message.content)"
   ]
  },
  {
   "cell_type": "code",
   "execution_count": 55,
   "metadata": {},
   "outputs": [],
   "source": [
    "import ast\n",
    "\n",
    "def parse_ingredient_list(raw_response):\n",
    "    cleaned = raw_response.strip().removeprefix(\"```python\").removesuffix(\"```\").strip()\n",
    "    return ast.literal_eval(cleaned)\n"
   ]
  },
  {
   "cell_type": "code",
   "execution_count": 59,
   "metadata": {},
   "outputs": [
    {
     "name": "stdout",
     "output_type": "stream",
     "text": [
      "['almond', 'amaretto', 'anchovy', 'anise', 'apple', 'apple juice', 'apricot', 'artichoke', 'arugula', 'asparagus', 'avocado', 'bacon', 'banana', 'barley', 'basil', 'bean', 'beef', 'beef rib', 'beef shank', 'beef tenderloin', 'beer', 'beet', 'bell pepper', 'berry', 'biscuit', 'blackberry', 'blue cheese', 'blueberry', 'bok choy', 'bordeaux', 'bread', 'breadcrumbs', 'brie', 'brisket', 'broccoli', 'broccoli rabe', 'brown rice', 'brussel sprout', 'butter', 'buttermilk', 'butternut squash', 'cabbage', 'candy', 'cantaloupe', 'capers', 'caraway', 'cardamom', 'carrot', 'cashew', 'casserole/gratin', 'cauliflower', 'caviar', 'celery', 'champagne', 'chard', 'cheddar', 'cheese', 'cherry', 'chestnut', 'chicken', 'chickpea', 'chile', 'chile pepper', 'chili', 'chive', 'chocolate', 'cilantro', 'cinnamon', 'clam', 'clove', 'cocktail', 'coconut', 'cod', 'coffee', 'cognac/armagnac', 'collard greens', 'condiment', 'condiment/spread', 'corn', 'cornmeal', 'cottage cheese', 'couscous', 'crab', 'cranberry', 'cranberry sauce', 'cream cheese', 'creme de cacao', 'crepe', 'cucumber', 'cumin', 'curry', 'custard', 'dairy', 'duck', 'egg', 'eggplant', 'endive', 'escarole', 'fennel', 'feta', 'fig', 'fish', 'feta', 'game', 'garlic', 'ginger', 'goat cheese', 'goose', 'gouda', 'grape', 'grapefruit', 'green bean', 'green onion/scallion', 'hazelnut', 'honey', 'honeydew', 'horseradish', 'hummus', 'ice cream', 'jicama', 'jam or jelly', 'jalapeño', 'kale', 'kidney bean', 'lamb', 'lamb chop', 'lamb shank', 'leafy green', 'leek', 'legume', 'lemon', 'lemon juice', 'lemongrass', 'lentil', 'lettuce', 'lima bean', 'lime', 'lime juice', 'lingonberry', 'lobster', 'mango', 'maple syrup', 'margarita', 'marsala', 'mascarpone', 'mayonnaise', 'mushroom', 'mustard', 'mustard greens', 'nectarine', 'nut', 'nutmeg', 'oat', 'oatmeal', 'octopus', 'olive', 'onion', 'orange', 'orange juice', 'oregano', 'organic', 'orecchiette', 'orzo', 'oyster', 'papaya', 'paprika', 'parmesan', 'parsley', 'parsnip', 'peach', 'peanut', 'peanut butter', 'pecan', 'pear', 'pecan', 'pepper', 'pesto', 'persimmon', 'pine nut', 'pineapple', 'pistachio', 'plum', 'poblano', 'pomegranate', 'pomegranate juice', 'poppy seed', 'pork', 'pork chop', 'pork rib', 'pork tenderloin', 'potato', 'poultry', 'poultry sausage', 'prosciutto', 'prune', 'pumpkin', 'quail', 'quinoa', 'rabbit', 'radicchio', 'radish', 'raisin', 'raspberry', 'red wine', 'rice', 'ricotta', 'root vegetable', 'rosemary', 'saffron', 'sage', 'sake', 'salad', 'salad dressing', 'salmon', 'salsa', 'sandwich', 'sangria', 'sardine', 'sausage', 'scallops', 'scotch', 'seafood', 'sesame', 'sesame oil', 'shallot', 'shellfish', 'sherry', 'shrimp', 'skirt steak', 'soda', 'sour cream', 'sourdough', 'soy', 'soy sauce', 'spinach', 'spirits', 'squash', 'steak', 'string bean', 'strawberry', 'stuffing', 'sugar', 'summer squash', 'sun-dried tomato', 'surimi', 'sweet potato', 'swiss chard', 'swiss cheese', 'swordfish', 'tahini', 'tamarind', 'tangerine', 'tapenade', 'tapioca', 'tarragon', 'tart', 'tea', 'tequila', 'thyme', 'tilapia', 'tofu', 'tomatillo', 'tomato', 'tortillas', 'trail mix', 'truffle', 'trout', 'tuna', 'turnip', 'veal', 'vegetable', 'venison', 'vermouth', 'vinegar', 'vodka', 'walnut', 'watermelon', 'whipped cream', 'white wine', 'wild rice', 'yogurt', 'zucchini']\n"
     ]
    }
   ],
   "source": [
    "#cleaned ingredient list\n",
    "ingredient_list = parse_ingredient_list(response.choices[0].message.content)\n",
    "print(ingredient_list)"
   ]
  },
  {
   "cell_type": "code",
   "execution_count": 61,
   "metadata": {},
   "outputs": [],
   "source": [
    "# Convert to lowercase for safe matching\n",
    "ingredient_list = [i.lower() for i in ingredient_list]\n",
    "\n",
    "# Clean and lowercase your DataFrame columns\n",
    "df.columns = [col.lower() for col in df.columns]\n",
    "\n",
    "# Keep only columns that match the ingredient list\n",
    "ingredient_columns = [col for col in df.columns if col in ingredient_list]\n",
    "\n",
    "# Filter the DataFrame\n",
    "ingredients_df = df[ingredient_columns]"
   ]
  },
  {
   "cell_type": "code",
   "execution_count": 63,
   "metadata": {},
   "outputs": [
    {
     "name": "stdout",
     "output_type": "stream",
     "text": [
      "Dropped columns: ['title', 'rating', 'calories', 'protein', 'fat', 'sodium', '#cakeweek', '#wasteless', '22-minute meals', '3-ingredient recipes', '30 days of groceries', 'advance prep required', 'alabama', 'alaska', 'alcoholic', 'anniversary', 'anthony bourdain', 'aperitif', 'appetizer', 'arizona', 'asian pear', 'aspen', 'atlanta', 'australia', 'back to school', 'backyard bbq', 'bake', 'bass', 'bastille day', 'beverly hills', 'birthday', 'bitters', 'blender', 'boil', 'bon appétit', 'bon app��tit', 'boston', 'bourbon', 'braise', 'bran', 'brandy', 'breakfast', 'brine', 'broil', 'brooklyn', 'brownie', 'brunch', 'buffalo', 'buffet', 'bulgaria', 'bulgur', 'burrito', 'butterscotch/caramel', 'cake', 'california', 'calvados', 'cambridge', 'campari', 'camping', 'canada', 'candy thermometer', 'chambord', 'chartreuse', 'chicago', 'chill', 'christmas', 'christmas eve', 'cinco de mayo', 'citrus', 'cobbler/crumble', 'cocktail party', 'coffee grinder', 'colorado', 'columbus', 'connecticut', 'cook like a diner', 'cookbook critic', 'cookie', 'cookies', 'coriander', 'costa mesa', 'créme de cacao', 'crêpe', 'cr��me de cacao', 'cuba', 'cupcake', 'currant', 'dairy free', 'dallas', 'date', 'deep-fry', 'denver', 'dessert', 'digestif', 'dill', 'dinner', 'dip', 'diwali', 'dominican republic', 'dorie greenspan', 'double boiler', 'dried fruit', 'drink', 'drinks', 'easter', 'eau de vie', 'edible gift', 'egg nog', 'egypt', 'emeril lagasse', 'engagement party', 'england', 'entertaining', 'epi + ushg', 'epi loves the microwave', 'fall', 'family reunion', 'fat free', \"father's day\", 'flaming hot summer', 'flat bread', 'florida', 'fontina', 'food processor', 'fortified wine', 'fourth of july', 'france', 'frangelico', 'frankenrecipe', 'freeze/chill', 'freezer food', 'friendsgiving', 'frittata', 'fritter', 'frozen dessert', 'fruit', 'fruit juice', 'fry', 'georgia', 'germany', 'gin', 'gourmet', 'graduation', 'grains', 'grand marnier', 'granola', 'grappa', 'grill', 'grill/barbecue', 'ground beef', 'ground lamb', 'guam', 'guava', 'haiti', 'halibut', 'halloween', 'ham', 'hamburger', 'hanukkah', 'harpercollins', 'hawaii', 'healdsburg', 'healthy', 'herb', 'high fiber', 'hollywood', 'hominy/cornmeal/masa', \"hors d'oeuvre\", 'hot drink', 'hot pepper', 'house & garden', 'house cocktail', 'houston', 'ice cream machine', 'iced coffee', 'iced tea', 'idaho', 'illinois', 'indiana', 'iowa', 'ireland', 'israel', 'italy', 'jamaica', 'japan', 'jerusalem artichoke', 'juicer', 'jícama', 'kahlúa', 'kansas', 'kansas city', 'kentucky', 'kentucky derby', 'kid-friendly', 'kidney friendly', 'kirsch', 'kitchen olympics', 'kiwi', 'kosher', 'kosher for passover', 'kumquat', 'kwanzaa', 'labor day', 'lancaster', 'las vegas', 'lasagna', 'liqueur', 'london', 'long beach', 'los angeles', 'louisiana', 'louisville', 'low cal', 'low carb', 'low cholesterol', 'low fat', 'low sodium', 'low sugar', 'low/no sugar', 'lunar new year', 'lunch', 'lychee', 'macadamia nut', 'macaroni and cheese', 'maine', 'mandoline', 'mardi gras', 'marinade', 'marinate', 'marscarpone', 'marshmallow', 'martini', 'maryland', 'massachusetts', 'meat', 'meatball', 'meatloaf', 'melon', 'mexico', 'mezcal', 'miami', 'michigan', 'microwave', 'midori', 'milk/cream', 'minneapolis', 'minnesota', 'mint', 'mississippi', 'missouri', 'mixer', 'molasses', 'monterey jack', 'mortar and pestle', \"mother's day\", 'mozzarella', 'muffin', 'mussel', 'nancy silverton', 'nebraska', 'new hampshire', 'new jersey', 'new mexico', 'new orleans', \"new year's day\", \"new year's eve\", 'new york', 'no meat, no problem', 'no sugar added', 'no-cook', 'non-alcoholic', 'noodle', 'north carolina', 'ohio', 'oklahoma', 'okra', 'oktoberfest', 'omelet', 'one-pot meal', 'oregon', 'oscars', 'pacific palisades', 'paleo', 'pan-fry', 'pancake', 'parade', 'paris', 'party', 'pasadena', 'passion fruit', 'passover', 'pasta', 'pasta maker', 'pastry', 'pea', 'peanut free', 'pennsylvania', 'pernod', 'persian new year', 'peru', 'pescatarian', 'philippines', 'phyllo/puff pastry dough', 'pickles', 'picnic', 'pie', 'pittsburgh', 'pizza', 'plantain', 'poach', 'poker/game night', 'poppy', 'port', 'portland', 'pot pie', 'potato salad', 'potluck', 'pressure cooker', 'providence', 'punch', 'purim', 'quiche', 'quick & easy', 'quick and healthy', 'quince', 'rack of lamb', 'ramadan', 'ramekin', 'raw', 'rhode island', 'rhubarb', 'roast', 'rosh hashanah/yom kippur', 'rosé', 'rub', 'rum', 'rutabaga', 'rye', 'san francisco', 'sandwich theory', 'santa monica', 'sauce', 'sauté', 'scallop', 'seattle', 'seed', 'self', 'semolina', 'shavuot', 'shower', 'side', 'simmer', 'skewer', 'slow cooker', 'smoker', 'smoothie', 'snapper', 'sorbet', 'soufflé/meringue', 'soup/stew', 'south carolina', 'soy free', 'spain', 'sparkling wine', 'spice', 'spirit', 'spring', 'spritzer', 'squid', 'st. louis', \"st. patrick's day\", 'steam', 'stew', 'stir-fry', 'stock', 'stuffing/dressing', 'sugar conscious', 'sugar snap pea', 'sukkot', 'summer', 'super bowl', 'suzanne goin', 'sweet potato/yam', 'switzerland', 'taco', 'tailgating', 'tennessee', 'tested & improved', 'texas', 'thanksgiving', 'tree nut', 'tree nut free', 'triple sec', 'tropical fruit', 'utah', \"valentine's day\", 'vanilla', 'vegan', 'vegetarian', 'vermont', 'virginia', 'waffle', 'wasabi', 'washington', 'washington, d.c.', 'watercress', 'wedding', 'weelicious', 'west virginia', 'westwood', 'wheat/gluten-free', 'whiskey', 'whole wheat', 'windsor', 'wine', 'winter', 'wisconsin', 'wok', 'yellow squash', 'yonkers', 'yuca', 'cookbooks', 'leftovers', 'snack', 'snack week', 'turkey']\n"
     ]
    }
   ],
   "source": [
    "non_ingredients = [col for col in df.columns if col not in ingredient_columns]\n",
    "print(\"Dropped columns:\", non_ingredients)"
   ]
  },
  {
   "cell_type": "code",
   "execution_count": 62,
   "metadata": {},
   "outputs": [],
   "source": [
    "#select main columns\n",
    "core_columns = ['title', 'rating', 'calories', 'protein', 'fat', 'sodium']\n",
    "\n",
    "#ingredient columns\n",
    "ingredient_columns = ingredients_df\n",
    "\n",
    "recipes_json = []\n",
    "\n",
    "for _, row in df_clean.iterrows():\n",
    "    ingredients = [col for col in ingredient_columns if row[col] == 1.0]\n",
    "    \n",
    "    if not ingredients:\n",
    "        continue\n",
    "\n",
    "    recipe = {\n",
    "        \"title\": row['title'] ,\n",
    "        \"rating\": row[\"rating\"],\n",
    "        \"calories\": row['calories'], \n",
    "        \"macros\":{\n",
    "            \"protein\": row['protein'], \n",
    "            \"fat\": row['fat'], \n",
    "            \"sodium\": row['sodium']\n",
    "        },\n",
    "        \"ingredients\": ingredients\n",
    "    }\n",
    "\n",
    "    recipes_json.append(recipe)\n"
   ]
  },
  {
   "cell_type": "code",
   "execution_count": 64,
   "metadata": {},
   "outputs": [
    {
     "data": {
      "text/plain": [
       "'recipes.json'"
      ]
     },
     "execution_count": 64,
     "metadata": {},
     "output_type": "execute_result"
    }
   ],
   "source": [
    "output_path = \"recipes.json\"\n",
    "\n",
    "with open(output_path, \"w\") as f:\n",
    "    json.dump(recipes_json, f, indent = 2)\n",
    "output_path"
   ]
  }
 ],
 "metadata": {
  "kernelspec": {
   "display_name": "venv_cleaning",
   "language": "python",
   "name": "python3"
  },
  "language_info": {
   "codemirror_mode": {
    "name": "ipython",
    "version": 3
   },
   "file_extension": ".py",
   "mimetype": "text/x-python",
   "name": "python",
   "nbconvert_exporter": "python",
   "pygments_lexer": "ipython3",
   "version": "3.13.3"
  }
 },
 "nbformat": 4,
 "nbformat_minor": 2
}
